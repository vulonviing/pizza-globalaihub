{
 "cells": [
  {
   "cell_type": "code",
   "execution_count": 41,
   "id": "3a0cc880-22b8-4c8c-a273-a6977ce1c580",
   "metadata": {},
   "outputs": [],
   "source": [
    "menu_text = \"\"\"* Lütfen Bir Pizza Tabanı Seçiniz:\n",
    "1: Klasik\n",
    "2: Margarita\n",
    "3: TürkPizza\n",
    "4: Sade Pizza\n",
    "* ve seçeceğiniz sos:\n",
    "11: Zeytin\n",
    "12: Mantarlar\n",
    "13: Keçi Peyniri\n",
    "14: Et\n",
    "15: Soğan\n",
    "16: Mısır\n",
    "* Teşekkür ederiz!\"\"\"\n",
    "\n",
    "with open(\"Menu.txt\", \"w\") as menu_file:\n",
    "    menu_file.write(menu_text)"
   ]
  },
  {
   "cell_type": "code",
   "execution_count": 42,
   "id": "aff681c1-f667-4d4e-b5dd-3925c46abf69",
   "metadata": {
    "tags": []
   },
   "outputs": [],
   "source": [
    "with open('Menu.txt', 'w') as f:\n",
    "    f.write(\"* Lütfen Bir Pizza Tabanı Seçiniz:\\n1: Klasik\\n2: Margarita\\n3: TürkPizza\\n4: Sade Pizza\\n\")\n",
    "    f.write(\"* ve seçeceğiniz sos:\\n11: Zeytin\\n12: Mantarlar\\n13: Keçi Peyniri\\n14: Et\\n15: Soğan\\n16: Mısır\\n\")\n",
    "    f.write(\"* Teşekkür ederiz!\")"
   ]
  },
  {
   "cell_type": "code",
   "execution_count": 43,
   "id": "64874235-3e62-446d-95a1-f997c3d2b0c0",
   "metadata": {
    "tags": []
   },
   "outputs": [],
   "source": [
    "class Pizza:\n",
    "    def __init__(self):\n",
    "        self.description = \"Bir pizza\"\n",
    "        \n",
    "    def get_description(self):\n",
    "        return self.description\n",
    "    \n",
    "    def get_cost(self):\n",
    "        return 0.0"
   ]
  },
  {
   "cell_type": "code",
   "execution_count": 44,
   "id": "8a19590a-4ea5-4483-9ed9-5e7eb0667da6",
   "metadata": {
    "tags": []
   },
   "outputs": [],
   "source": [
    "class KlasikPizza(Pizza):\n",
    "    def __init__(self):\n",
    "        super().__init__()\n",
    "        self.description = \"Klasik pizza\"\n",
    "        \n",
    "    def get_cost(self):\n",
    "        return 15.0\n",
    "    \n",
    "\n",
    "class MargaritaPizza(Pizza):\n",
    "    def __init__(self):\n",
    "        super().__init__()\n",
    "        self.description = \"Margarita pizza\"\n",
    "        \n",
    "    def get_cost(self):\n",
    "        return 20.0\n",
    "    \n",
    "\n",
    "class TurkPizza(Pizza):\n",
    "    def __init__(self):\n",
    "        super().__init__()\n",
    "        self.description = \"Türk pizza\"\n",
    "        \n",
    "    def get_cost(self):\n",
    "        return 18.0\n",
    "    \n",
    "\n",
    "class SadePizza(Pizza):\n",
    "    def __init__(self):\n",
    "        super().__init__()\n",
    "        self.description = \"Sade pizza\"\n",
    "        \n",
    "    def get_cost(self):\n",
    "        return 12.0"
   ]
  },
  {
   "cell_type": "code",
   "execution_count": 48,
   "id": "874c4b0a-351a-4397-8fcb-0e0df75b5c56",
   "metadata": {
    "tags": []
   },
   "outputs": [
    {
     "ename": "NameError",
     "evalue": "name 'isim' is not defined",
     "output_type": "error",
     "traceback": [
      "\u001b[1;31m---------------------------------------------------------------------------\u001b[0m",
      "\u001b[1;31mNameError\u001b[0m                                 Traceback (most recent call last)",
      "\u001b[1;32m~\\AppData\\Local\\Temp\\ipykernel_25472\\1015902533.py\u001b[0m in \u001b[0;36m<cell line: 72>\u001b[1;34m()\u001b[0m\n\u001b[0;32m     70\u001b[0m         \u001b[1;32mreturn\u001b[0m \u001b[0mself\u001b[0m\u001b[1;33m.\u001b[0m\u001b[0mpizza\u001b[0m\u001b[1;33m.\u001b[0m\u001b[0mget_cost\u001b[0m\u001b[1;33m(\u001b[0m\u001b[1;33m)\u001b[0m \u001b[1;33m+\u001b[0m \u001b[0mself\u001b[0m\u001b[1;33m.\u001b[0m\u001b[0mcost\u001b[0m\u001b[1;33m\u001b[0m\u001b[1;33m\u001b[0m\u001b[0m\n\u001b[0;32m     71\u001b[0m \u001b[1;33m\u001b[0m\u001b[0m\n\u001b[1;32m---> 72\u001b[1;33m \u001b[1;32mclass\u001b[0m \u001b[0mSosFactory\u001b[0m\u001b[1;33m:\u001b[0m\u001b[1;33m\u001b[0m\u001b[1;33m\u001b[0m\u001b[0m\n\u001b[0m\u001b[0;32m     73\u001b[0m     \u001b[1;33m@\u001b[0m\u001b[0mstaticmethod\u001b[0m\u001b[1;33m\u001b[0m\u001b[1;33m\u001b[0m\u001b[0m\n\u001b[0;32m     74\u001b[0m     \u001b[1;32mdef\u001b[0m \u001b[0mcreate_sos\u001b[0m\u001b[1;33m(\u001b[0m\u001b[0msos_choice\u001b[0m\u001b[1;33m)\u001b[0m\u001b[1;33m:\u001b[0m\u001b[1;33m\u001b[0m\u001b[1;33m\u001b[0m\u001b[0m\n",
      "\u001b[1;32m~\\AppData\\Local\\Temp\\ipykernel_25472\\1015902533.py\u001b[0m in \u001b[0;36mSosFactory\u001b[1;34m()\u001b[0m\n\u001b[0;32m     88\u001b[0m     \u001b[1;32mwith\u001b[0m \u001b[0mopen\u001b[0m\u001b[1;33m(\u001b[0m\u001b[1;34m'Orders_Database.csv'\u001b[0m\u001b[1;33m,\u001b[0m \u001b[1;34m'a'\u001b[0m\u001b[1;33m,\u001b[0m \u001b[0mnewline\u001b[0m\u001b[1;33m=\u001b[0m\u001b[1;34m''\u001b[0m\u001b[1;33m)\u001b[0m \u001b[1;32mas\u001b[0m \u001b[0mf\u001b[0m\u001b[1;33m:\u001b[0m\u001b[1;33m\u001b[0m\u001b[1;33m\u001b[0m\u001b[0m\n\u001b[0;32m     89\u001b[0m         \u001b[0mwriter\u001b[0m \u001b[1;33m=\u001b[0m \u001b[0mcsv\u001b[0m\u001b[1;33m.\u001b[0m\u001b[0mwriter\u001b[0m\u001b[1;33m(\u001b[0m\u001b[0mf\u001b[0m\u001b[1;33m)\u001b[0m\u001b[1;33m\u001b[0m\u001b[1;33m\u001b[0m\u001b[0m\n\u001b[1;32m---> 90\u001b[1;33m         \u001b[0mwriter\u001b[0m\u001b[1;33m.\u001b[0m\u001b[0mwriterow\u001b[0m\u001b[1;33m(\u001b[0m\u001b[1;33m[\u001b[0m\u001b[0mdatetime\u001b[0m\u001b[1;33m.\u001b[0m\u001b[0mnow\u001b[0m\u001b[1;33m(\u001b[0m\u001b[1;33m)\u001b[0m\u001b[1;33m,\u001b[0m \u001b[0misim\u001b[0m\u001b[1;33m,\u001b[0m \u001b[0mtc\u001b[0m\u001b[1;33m,\u001b[0m \u001b[0mkart_no\u001b[0m\u001b[1;33m,\u001b[0m \u001b[0mkart_sifre\u001b[0m\u001b[1;33m,\u001b[0m \u001b[0mtaban_choice\u001b[0m\u001b[1;33m,\u001b[0m \u001b[1;33m[\u001b[0m\u001b[0ms\u001b[0m\u001b[1;33m.\u001b[0m\u001b[0mcost\u001b[0m \u001b[1;32mfor\u001b[0m \u001b[0ms\u001b[0m \u001b[1;32min\u001b[0m \u001b[0msos\u001b[0m\u001b[1;33m]\u001b[0m\u001b[1;33m]\u001b[0m\u001b[1;33m)\u001b[0m\u001b[1;33m\u001b[0m\u001b[1;33m\u001b[0m\u001b[0m\n\u001b[0m",
      "\u001b[1;31mNameError\u001b[0m: name 'isim' is not defined"
     ]
    }
   ],
   "source": [
    "class SosDecorator(Pizza):\n",
    "    def __init__(self, pizza):\n",
    "        super().__init__()\n",
    "        self.pizza = pizza\n",
    "        \n",
    "    def get_description(self):\n",
    "        return self.pizza.get_description() + \" üzerinde \" + self.description\n",
    "    \n",
    "    def get_cost(self):\n",
    "        return self.pizza.get_cost() + self.cost\n",
    "    \n",
    "\n",
    "class Zeytin(SosDecorator):\n",
    "    def __init__(self, pizza):\n",
    "        super().__init__(pizza)\n",
    "        self.description = \"zeytin\"\n",
    "        self.cost = 2.0\n",
    "        \n",
    "    def get_cost(self):\n",
    "        return self.pizza.get_cost() + self.cost\n",
    "    \n",
    "\n",
    "class Mantar(SosDecorator):\n",
    "    def __init__(self, pizza):\n",
    "        super().__init__(pizza)\n",
    "        self.description = \"mantar\"\n",
    "        self.cost = 3.0\n",
    "        \n",
    "    def get_cost(self):\n",
    "        return self.pizza.get_cost() + self.cost\n",
    "    \n",
    "\n",
    "class KeciPeyniri(SosDecorator):\n",
    "    def __init__(self, pizza):\n",
    "        super().__init__(pizza)\n",
    "        self.description = \"keçi peyniri\"\n",
    "        self.cost = 4.0\n",
    "        \n",
    "    def get_cost(self):\n",
    "        return self.pizza.get_cost() + self.cost\n",
    "    \n",
    "\n",
    "class Et(SosDecorator):\n",
    "    def __init__(self, pizza):\n",
    "        super().__init__(pizza)\n",
    "        self.description = \"et\"\n",
    "        self.cost = 5.0\n",
    "        \n",
    "    def get_cost(self):\n",
    "        return self.pizza.get_cost() + self.cost\n",
    "    \n",
    "\n",
    "class Sogan(SosDecorator):\n",
    "    def __init__(self, pizza):\n",
    "        super().__init__(pizza)\n",
    "        self.description = \"soğan\"\n",
    "        self.cost = 1.5\n",
    "        \n",
    "    def get_cost(self):\n",
    "        return self.pizza.get_cost() + self.cost\n",
    "    \n",
    "\n",
    "class Misir(SosDecorator):\n",
    "    def __init__(self, pizza):\n",
    "        super().__init__(pizza)\n",
    "        self.description = \"mısır\"\n",
    "        self.cost = 2.5\n",
    "        \n",
    "    def get_cost(self):\n",
    "        return self.pizza.get_cost() + self.cost\n",
    "\n",
    "class SosFactory:\n",
    "    @staticmethod\n",
    "    def create_sos(sos_choice):\n",
    "        if sos_choice == 11:\n",
    "            return Zeytin(SadePizza())\n",
    "        elif sos_choice == 12:\n",
    "            return Mantar(SadePizza())\n",
    "        elif sos_choice == 13:\n",
    "            return KeciPeyniri(SadePizza())\n",
    "        elif sos_choice == 14:\n",
    "            return Et(SadePizza())\n",
    "        elif sos_choice == 15:\n",
    "            return Sogan(SadePizza())\n",
    "        elif sos_choice == 16:\n",
    "            return Misir(SadePizza())\n",
    "        \n",
    "    with open('Orders_Database.csv', 'a', newline='') as f:\n",
    "        writer = csv.writer(f)\n",
    "        writer.writerow([datetime.now(), isim, tc, kart_no, kart_sifre, taban_choice, [s.cost for s in sos]])\n"
   ]
  },
  {
   "cell_type": "code",
   "execution_count": 49,
   "id": "a1078437-bdd5-4ead-8f06-762681ba5ea4",
   "metadata": {
    "tags": []
   },
   "outputs": [],
   "source": [
    "import csv\n",
    "from datetime import datetime\n",
    "\n",
    "\n",
    "def main():\n",
    "    # Menu.txt dosyasını okuyalım ve menüyü yazdıralım\n",
    "    with open('Menu.txt', 'r') as f:\n",
    "        menu = f.read()\n",
    "    print(menu)\n",
    "    \n",
    "    # Kullanıcının pizza tabanını seçmesini isteyelim\n",
    "    taban_choice = input(\"Lütfen bir pizza tabanı seçiniz (1-4): \")\n",
    "    while taban_choice not in [\"1\", \"2\", \"3\", \"4\"]:\n",
    "        print(\"Geçersiz giriş, lütfen tekrar deneyin.\")\n",
    "        taban_choice = input(\"Lütfen bir pizza tabanı seçiniz (1-4): \")\n",
    "        \n",
    "    # Kullanıcının soslarını seçmesini isteyelim\n",
    "    sos = []\n",
    "    while True:\n",
    "        sos_choice = input(\"Lütfen bir sos seçiniz (11-16, boşluk bırakarak seçim yapınız): \")\n",
    "        if sos_choice.isdigit():\n",
    "            sos_choice = int(sos_choice)\n",
    "            if sos_choice >= 11 and sos_choice <= 16:\n",
    "                sos.append(SosFactory.create_sos(sos_choice))\n",
    "            else:\n",
    "                print(\"Geçersiz giriş, lütfen tekrar deneyin.\")\n",
    "        else:\n",
    "            print(\"Geçersiz giriş, lütfen tekrar deneyin.\")\n",
    "        if len(sos) >= 3:\n",
    "            break\n",
    "                \n",
    "    # Kullanıcının ödeme bilgilerini isteyelim\n",
    "    isim = input(\"İsim: \")\n",
    "    tc = input(\"TC Kimlik Numarası: \")\n",
    "    kart_no = input(\"Kredi Kartı Numarası: \")\n",
    "    kart_sifre = input(\"Kredi Kartı Şifresi: \")\n",
    "    \n",
    "    # Sipariş bilgilerini Orders_Database.csv dosyasına kaydedelim\n",
    "    with open('Orders_Database.csv', 'a', newline='') as f:\n",
    "        writer = csv.writer(f)\n",
    "        writer.writerow([datetime.now(), isim, tc, kart_no, kart_sifre, taban_choice, [s.get_description() for s in sos]])\n",
    "    \n",
    "    print(\"Siparişiniz alınmıştır. Teşekkür ederiz!\")\n"
   ]
  },
  {
   "cell_type": "code",
   "execution_count": 50,
   "id": "a377422b-0b83-4982-b9bf-52564f6eff75",
   "metadata": {
    "tags": []
   },
   "outputs": [
    {
     "name": "stdout",
     "output_type": "stream",
     "text": [
      "* Lütfen Bir Pizza Tabanı Seçiniz:\n",
      "1: Klasik\n",
      "2: Margarita\n",
      "3: TürkPizza\n",
      "4: Sade Pizza\n",
      "* ve seçeceğiniz sos:\n",
      "11: Zeytin\n",
      "12: Mantarlar\n",
      "13: Keçi Peyniri\n",
      "14: Et\n",
      "15: Soğan\n",
      "16: Mısır\n",
      "* Teşekkür ederiz!\n"
     ]
    },
    {
     "name": "stdin",
     "output_type": "stream",
     "text": [
      "Lütfen bir pizza tabanı seçiniz (1-4):  2\n",
      "Lütfen bir sos seçiniz (11-16, boşluk bırakarak seçim yapınız):  11\n",
      "Lütfen bir sos seçiniz (11-16, boşluk bırakarak seçim yapınız):  12\n",
      "Lütfen bir sos seçiniz (11-16, boşluk bırakarak seçim yapınız):  13\n",
      "İsim:  emre\n",
      "TC Kimlik Numarası:  31\n",
      "Kredi Kartı Numarası:  31\n",
      "Kredi Kartı Şifresi:  31\n"
     ]
    },
    {
     "ename": "AttributeError",
     "evalue": "'NoneType' object has no attribute 'get_description'",
     "output_type": "error",
     "traceback": [
      "\u001b[1;31m---------------------------------------------------------------------------\u001b[0m",
      "\u001b[1;31mAttributeError\u001b[0m                            Traceback (most recent call last)",
      "\u001b[1;32m~\\AppData\\Local\\Temp\\ipykernel_25472\\451043146.py\u001b[0m in \u001b[0;36m<cell line: 1>\u001b[1;34m()\u001b[0m\n\u001b[1;32m----> 1\u001b[1;33m \u001b[0mmain\u001b[0m\u001b[1;33m(\u001b[0m\u001b[1;33m)\u001b[0m\u001b[1;33m\u001b[0m\u001b[1;33m\u001b[0m\u001b[0m\n\u001b[0m",
      "\u001b[1;32m~\\AppData\\Local\\Temp\\ipykernel_25472\\1757611626.py\u001b[0m in \u001b[0;36mmain\u001b[1;34m()\u001b[0m\n\u001b[0;32m     39\u001b[0m     \u001b[1;32mwith\u001b[0m \u001b[0mopen\u001b[0m\u001b[1;33m(\u001b[0m\u001b[1;34m'Orders_Database.csv'\u001b[0m\u001b[1;33m,\u001b[0m \u001b[1;34m'a'\u001b[0m\u001b[1;33m,\u001b[0m \u001b[0mnewline\u001b[0m\u001b[1;33m=\u001b[0m\u001b[1;34m''\u001b[0m\u001b[1;33m)\u001b[0m \u001b[1;32mas\u001b[0m \u001b[0mf\u001b[0m\u001b[1;33m:\u001b[0m\u001b[1;33m\u001b[0m\u001b[1;33m\u001b[0m\u001b[0m\n\u001b[0;32m     40\u001b[0m         \u001b[0mwriter\u001b[0m \u001b[1;33m=\u001b[0m \u001b[0mcsv\u001b[0m\u001b[1;33m.\u001b[0m\u001b[0mwriter\u001b[0m\u001b[1;33m(\u001b[0m\u001b[0mf\u001b[0m\u001b[1;33m)\u001b[0m\u001b[1;33m\u001b[0m\u001b[1;33m\u001b[0m\u001b[0m\n\u001b[1;32m---> 41\u001b[1;33m         \u001b[0mwriter\u001b[0m\u001b[1;33m.\u001b[0m\u001b[0mwriterow\u001b[0m\u001b[1;33m(\u001b[0m\u001b[1;33m[\u001b[0m\u001b[0mdatetime\u001b[0m\u001b[1;33m.\u001b[0m\u001b[0mnow\u001b[0m\u001b[1;33m(\u001b[0m\u001b[1;33m)\u001b[0m\u001b[1;33m,\u001b[0m \u001b[0misim\u001b[0m\u001b[1;33m,\u001b[0m \u001b[0mtc\u001b[0m\u001b[1;33m,\u001b[0m \u001b[0mkart_no\u001b[0m\u001b[1;33m,\u001b[0m \u001b[0mkart_sifre\u001b[0m\u001b[1;33m,\u001b[0m \u001b[0mtaban_choice\u001b[0m\u001b[1;33m,\u001b[0m \u001b[1;33m[\u001b[0m\u001b[0ms\u001b[0m\u001b[1;33m.\u001b[0m\u001b[0mget_description\u001b[0m\u001b[1;33m(\u001b[0m\u001b[1;33m)\u001b[0m \u001b[1;32mfor\u001b[0m \u001b[0ms\u001b[0m \u001b[1;32min\u001b[0m \u001b[0msos\u001b[0m\u001b[1;33m]\u001b[0m\u001b[1;33m]\u001b[0m\u001b[1;33m)\u001b[0m\u001b[1;33m\u001b[0m\u001b[1;33m\u001b[0m\u001b[0m\n\u001b[0m\u001b[0;32m     42\u001b[0m \u001b[1;33m\u001b[0m\u001b[0m\n\u001b[0;32m     43\u001b[0m     \u001b[0mprint\u001b[0m\u001b[1;33m(\u001b[0m\u001b[1;34m\"Siparişiniz alınmıştır. Teşekkür ederiz!\"\u001b[0m\u001b[1;33m)\u001b[0m\u001b[1;33m\u001b[0m\u001b[1;33m\u001b[0m\u001b[0m\n",
      "\u001b[1;32m~\\AppData\\Local\\Temp\\ipykernel_25472\\1757611626.py\u001b[0m in \u001b[0;36m<listcomp>\u001b[1;34m(.0)\u001b[0m\n\u001b[0;32m     39\u001b[0m     \u001b[1;32mwith\u001b[0m \u001b[0mopen\u001b[0m\u001b[1;33m(\u001b[0m\u001b[1;34m'Orders_Database.csv'\u001b[0m\u001b[1;33m,\u001b[0m \u001b[1;34m'a'\u001b[0m\u001b[1;33m,\u001b[0m \u001b[0mnewline\u001b[0m\u001b[1;33m=\u001b[0m\u001b[1;34m''\u001b[0m\u001b[1;33m)\u001b[0m \u001b[1;32mas\u001b[0m \u001b[0mf\u001b[0m\u001b[1;33m:\u001b[0m\u001b[1;33m\u001b[0m\u001b[1;33m\u001b[0m\u001b[0m\n\u001b[0;32m     40\u001b[0m         \u001b[0mwriter\u001b[0m \u001b[1;33m=\u001b[0m \u001b[0mcsv\u001b[0m\u001b[1;33m.\u001b[0m\u001b[0mwriter\u001b[0m\u001b[1;33m(\u001b[0m\u001b[0mf\u001b[0m\u001b[1;33m)\u001b[0m\u001b[1;33m\u001b[0m\u001b[1;33m\u001b[0m\u001b[0m\n\u001b[1;32m---> 41\u001b[1;33m         \u001b[0mwriter\u001b[0m\u001b[1;33m.\u001b[0m\u001b[0mwriterow\u001b[0m\u001b[1;33m(\u001b[0m\u001b[1;33m[\u001b[0m\u001b[0mdatetime\u001b[0m\u001b[1;33m.\u001b[0m\u001b[0mnow\u001b[0m\u001b[1;33m(\u001b[0m\u001b[1;33m)\u001b[0m\u001b[1;33m,\u001b[0m \u001b[0misim\u001b[0m\u001b[1;33m,\u001b[0m \u001b[0mtc\u001b[0m\u001b[1;33m,\u001b[0m \u001b[0mkart_no\u001b[0m\u001b[1;33m,\u001b[0m \u001b[0mkart_sifre\u001b[0m\u001b[1;33m,\u001b[0m \u001b[0mtaban_choice\u001b[0m\u001b[1;33m,\u001b[0m \u001b[1;33m[\u001b[0m\u001b[0ms\u001b[0m\u001b[1;33m.\u001b[0m\u001b[0mget_description\u001b[0m\u001b[1;33m(\u001b[0m\u001b[1;33m)\u001b[0m \u001b[1;32mfor\u001b[0m \u001b[0ms\u001b[0m \u001b[1;32min\u001b[0m \u001b[0msos\u001b[0m\u001b[1;33m]\u001b[0m\u001b[1;33m]\u001b[0m\u001b[1;33m)\u001b[0m\u001b[1;33m\u001b[0m\u001b[1;33m\u001b[0m\u001b[0m\n\u001b[0m\u001b[0;32m     42\u001b[0m \u001b[1;33m\u001b[0m\u001b[0m\n\u001b[0;32m     43\u001b[0m     \u001b[0mprint\u001b[0m\u001b[1;33m(\u001b[0m\u001b[1;34m\"Siparişiniz alınmıştır. Teşekkür ederiz!\"\u001b[0m\u001b[1;33m)\u001b[0m\u001b[1;33m\u001b[0m\u001b[1;33m\u001b[0m\u001b[0m\n",
      "\u001b[1;32m~\\AppData\\Local\\Temp\\ipykernel_25472\\1015902533.py\u001b[0m in \u001b[0;36mget_description\u001b[1;34m(self)\u001b[0m\n\u001b[0;32m      5\u001b[0m \u001b[1;33m\u001b[0m\u001b[0m\n\u001b[0;32m      6\u001b[0m     \u001b[1;32mdef\u001b[0m \u001b[0mget_description\u001b[0m\u001b[1;33m(\u001b[0m\u001b[0mself\u001b[0m\u001b[1;33m)\u001b[0m\u001b[1;33m:\u001b[0m\u001b[1;33m\u001b[0m\u001b[1;33m\u001b[0m\u001b[0m\n\u001b[1;32m----> 7\u001b[1;33m         \u001b[1;32mreturn\u001b[0m \u001b[0mself\u001b[0m\u001b[1;33m.\u001b[0m\u001b[0mpizza\u001b[0m\u001b[1;33m.\u001b[0m\u001b[0mget_description\u001b[0m\u001b[1;33m(\u001b[0m\u001b[1;33m)\u001b[0m \u001b[1;33m+\u001b[0m \u001b[1;34m\" üzerinde \"\u001b[0m \u001b[1;33m+\u001b[0m \u001b[0mself\u001b[0m\u001b[1;33m.\u001b[0m\u001b[0mdescription\u001b[0m\u001b[1;33m\u001b[0m\u001b[1;33m\u001b[0m\u001b[0m\n\u001b[0m\u001b[0;32m      8\u001b[0m \u001b[1;33m\u001b[0m\u001b[0m\n\u001b[0;32m      9\u001b[0m     \u001b[1;32mdef\u001b[0m \u001b[0mget_cost\u001b[0m\u001b[1;33m(\u001b[0m\u001b[0mself\u001b[0m\u001b[1;33m)\u001b[0m\u001b[1;33m:\u001b[0m\u001b[1;33m\u001b[0m\u001b[1;33m\u001b[0m\u001b[0m\n",
      "\u001b[1;31mAttributeError\u001b[0m: 'NoneType' object has no attribute 'get_description'"
     ]
    }
   ],
   "source": [
    "main()"
   ]
  },
  {
   "cell_type": "code",
   "execution_count": null,
   "id": "7236d7fe-2243-4e4e-8812-e86b7269a862",
   "metadata": {},
   "outputs": [],
   "source": []
  }
 ],
 "metadata": {
  "kernelspec": {
   "display_name": "Python 3 (ipykernel)",
   "language": "python",
   "name": "python3"
  },
  "language_info": {
   "codemirror_mode": {
    "name": "ipython",
    "version": 3
   },
   "file_extension": ".py",
   "mimetype": "text/x-python",
   "name": "python",
   "nbconvert_exporter": "python",
   "pygments_lexer": "ipython3",
   "version": "3.9.13"
  }
 },
 "nbformat": 4,
 "nbformat_minor": 5
}
